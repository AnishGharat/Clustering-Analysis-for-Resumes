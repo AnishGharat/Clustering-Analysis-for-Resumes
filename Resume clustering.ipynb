{
 "cells": [
  {
   "cell_type": "code",
   "execution_count": null,
   "id": "c8a9b37d",
   "metadata": {},
   "outputs": [],
   "source": [
    "pip install pdfplumber"
   ]
  },
  {
   "cell_type": "code",
   "execution_count": null,
   "id": "828ffc06",
   "metadata": {},
   "outputs": [],
   "source": [
    "import pandas as pd\n",
    "import numpy as np\n",
    "import os\n",
    "import pdfplumber\n",
    "from scipy.cluster.hierarchy import dendrogram, linkage, fcluster\n",
    "import matplotlib.pyplot as plt\n",
    "import difflib\n",
    "import seaborn as sn"
   ]
  },
  {
   "cell_type": "code",
   "execution_count": null,
   "id": "b0e549a4",
   "metadata": {},
   "outputs": [],
   "source": [
    "folder_path = \"Enter path over here\"\n",
    "\n",
    "col_names=['name','page','data']\n",
    "df = pd.DataFrame(columns=col_names)\n",
    "\n",
    "#Opening and extracting data from all the files\n",
    "for filename in os.listdir(folder_path):\n",
    "    file_path = os.path.join(folder_path, filename)\n",
    "\n",
    "    if os.path.isfile(file_path) and filename.lower().endswith(\".pdf\"):\n",
    "        with pdfplumber.open(file_path) as pdf:\n",
    "            for page in pdf.pages:\n",
    "                text = page.extract_text()\n",
    "                text_edit = text.split()\n",
    "                text_final = ' '.join(text_edit)\n",
    "                df.loc[len(df.index)] = [filename,page.page_number,text_final]\n",
    "df"
   ]
  },
  {
   "cell_type": "code",
   "execution_count": null,
   "id": "0e86cf32",
   "metadata": {},
   "outputs": [],
   "source": [
    "#Cleaning the data\n",
    "df = df.drop(columns=['page'],axis=1)\n",
    "df['data'] = df.groupby(['name'])['data'].transform(lambda x : ' '.join(x))\n",
    "df = df.drop_duplicates()\n",
    "df = df.reset_index(drop=True)\n",
    "df"
   ]
  },
  {
   "cell_type": "code",
   "execution_count": null,
   "id": "aae01133",
   "metadata": {},
   "outputs": [],
   "source": [
    "array_shape = len(df.index)\n",
    "array_shape"
   ]
  },
  {
   "cell_type": "code",
   "execution_count": null,
   "id": "a16b463d",
   "metadata": {},
   "outputs": [],
   "source": [
    "#Delcaring matrix to generate correlation matrix\n",
    "sim_index = np.zeros([array_shape,array_shape],dtype=float)\n",
    "print(sim_index)"
   ]
  },
  {
   "cell_type": "code",
   "execution_count": null,
   "id": "d39d4258",
   "metadata": {},
   "outputs": [],
   "source": [
    "#Function to find correlation/similarity\n",
    "def similar(input_string, reference_string):\n",
    "    diff = difflib.ndiff(input_string, reference_string)\n",
    "    diff_count = 0\n",
    "    for line in diff:\n",
    "        if line.startswith(\"-\"):\n",
    "            diff_count += 1\n",
    "    return np.round(1 - (diff_count / len(input_string)),3)"
   ]
  },
  {
   "cell_type": "code",
   "execution_count": null,
   "id": "c4269c6a",
   "metadata": {},
   "outputs": [],
   "source": [
    "#adding values to the matrix\n",
    "for index1, row1 in df.iterrows():\n",
    "    for index2, row2 in df.iterrows():\n",
    "        sim_value = similar(row1['data'],row2['data'])\n",
    "        sim_index[index1][index2] = sim_value\n",
    "\n",
    "sim_index"
   ]
  },
  {
   "cell_type": "code",
   "execution_count": null,
   "id": "68e063db",
   "metadata": {},
   "outputs": [],
   "source": [
    "hm = sn.heatmap(data = sim_index) \n",
    "plt.show()"
   ]
  },
  {
   "cell_type": "code",
   "execution_count": null,
   "id": "efe4b4f9",
   "metadata": {
    "scrolled": false
   },
   "outputs": [],
   "source": [
    "#Using Heirarchical Clustering\n",
    "distance_matrix = np.sqrt(2 * (1 - sim_index))\n",
    "#linkage_matrix shows the clusters getting formed\n",
    "linkage_matrix = linkage(distance_matrix, method='ward')\n",
    "print(linkage_matrix)\n",
    "dendrogram(linkage_matrix)\n",
    "plt.show()\n",
    "\n",
    "inertias = []\n",
    "\n",
    "for n_clusters in range(1, 11): \n",
    "    cluster_labels = fcluster(linkage_matrix, t=n_clusters, criterion='maxclust')\n",
    "    inertia = 0\n",
    "    \n",
    "    for cluster_num in range(1, n_clusters + 1):\n",
    "        cluster_points = distance_matrix[cluster_labels == cluster_num]\n",
    "        \n",
    "        if len(cluster_points) > 0:\n",
    "            #inertia sum of squared distance of samples to their closest cluster center\n",
    "            inertia += np.sum((cluster_points - cluster_points.mean())**2)\n",
    "    \n",
    "    inertias.append(inertia)\n",
    "\n",
    "print(inertias)\n",
    "plt.plot(range(1, 11), inertias, marker='o')\n",
    "plt.xlabel('Number of Clusters')\n",
    "plt.ylabel('Inertia')\n",
    "plt.title('Elbow Method for Hierarchical Clustering')\n",
    "plt.show()"
   ]
  },
  {
   "cell_type": "code",
   "execution_count": null,
   "id": "3f029cd3",
   "metadata": {},
   "outputs": [],
   "source": [
    "#Finding percent change in inertias\n",
    "percent_change = []\n",
    "\n",
    "for i in range(1, len(inertias)):\n",
    "    previous_value = inertias[i - 1]\n",
    "    current_value = inertias[i]\n",
    "    value = ((current_value - previous_value) / previous_value) * 100\n",
    "    percent_change.append(value)\n",
    "\n",
    "print(percent_change)"
   ]
  },
  {
   "cell_type": "code",
   "execution_count": null,
   "id": "e8ceb558",
   "metadata": {},
   "outputs": [],
   "source": [
    "#Find min value of percent change\n",
    "percent_change = [abs(x) for x in percent_change]\n",
    "percent = [abs(x) for x in percent_change if x != percent_change[0]]\n",
    "min_value = min(percent)\n",
    "min_value"
   ]
  },
  {
   "cell_type": "code",
   "execution_count": null,
   "id": "4a7bcee9",
   "metadata": {},
   "outputs": [],
   "source": [
    "#Defining number of clusters (from elbow method)\n",
    "desired_num_clusters = percent_change.index(min_value)+1\n",
    "\n",
    "# Perform hierarchical clustering\n",
    "clusters = fcluster(linkage_matrix, t=desired_num_clusters, criterion='maxclust')\n",
    "\n",
    "# Create a dictionary to store elements in each cluster\n",
    "cluster_elements = {}\n",
    "\n",
    "# Assign data points to clusters\n",
    "for idx, cluster_id in enumerate(clusters):\n",
    "    if cluster_id not in cluster_elements:\n",
    "        cluster_elements[cluster_id] = []\n",
    "    cluster_elements[cluster_id].append(idx)\n",
    "\n",
    "# Print elements in each cluster\n",
    "for cluster_id, elements in cluster_elements.items():\n",
    "    print(f\"Cluster {cluster_id}: {elements}\")"
   ]
  },
  {
   "cell_type": "code",
   "execution_count": null,
   "id": "46206623",
   "metadata": {},
   "outputs": [],
   "source": [
    "#Declaring column names for the clustered df\n",
    "col_names = []\n",
    "for i in range(desired_num_clusters):\n",
    "    col = (f\"Cluster {i+1}\")\n",
    "    col_names.append(col)\n",
    "col_names"
   ]
  },
  {
   "cell_type": "code",
   "execution_count": null,
   "id": "1fccd792",
   "metadata": {},
   "outputs": [],
   "source": [
    "cluster_df = pd.DataFrame(columns=col_names)\n",
    "\n",
    "#Adding names to their respective clusters\n",
    "for cluster_id, elements in cluster_elements.items():\n",
    "    for element_index in elements:\n",
    "        name = df.loc[element_index, 'name']\n",
    "        cluster_df.loc[element_index, f'Cluster {cluster_id}'] = name\n",
    "        \n",
    "cluster_df.fillna('', inplace=True)\n",
    "cluster_df"
   ]
  },
  {
   "cell_type": "code",
   "execution_count": null,
   "id": "7417a6e0",
   "metadata": {},
   "outputs": [],
   "source": []
  }
 ],
 "metadata": {
  "kernelspec": {
   "display_name": "Python 3 (ipykernel)",
   "language": "python",
   "name": "python3"
  },
  "language_info": {
   "codemirror_mode": {
    "name": "ipython",
    "version": 3
   },
   "file_extension": ".py",
   "mimetype": "text/x-python",
   "name": "python",
   "nbconvert_exporter": "python",
   "pygments_lexer": "ipython3",
   "version": "3.9.13"
  }
 },
 "nbformat": 4,
 "nbformat_minor": 5
}
